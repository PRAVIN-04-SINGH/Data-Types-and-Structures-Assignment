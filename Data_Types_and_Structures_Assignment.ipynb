{
  "nbformat": 4,
  "nbformat_minor": 0,
  "metadata": {
    "colab": {
      "provenance": []
    },
    "kernelspec": {
      "name": "python3",
      "display_name": "Python 3"
    },
    "language_info": {
      "name": "python"
    }
  },
  "cells": [
    {
      "cell_type": "code",
      "execution_count": null,
      "metadata": {
        "id": "nbpa6-_ATNR1"
      },
      "outputs": [],
      "source": []
    },
    {
      "cell_type": "markdown",
      "source": [
        "1.What are data structures, and why are they important?\n",
        "- Data structures are the organizers and storers of data in an efficient manner so that they can be modified and accessed in the future.\n",
        "\n",
        "2.Explain the difference between mutable and immutable data types with examples.\n",
        "- # Immutable data types are those whose values cannot be changed after creation. When we modify an immutable object, we create a new object with the modified value, and the original object remains unchanged. As a result, any variables referencing the original object won't be updated.\n",
        "\n",
        "Examples of immutable data types in Python include:\n",
        "\n",
        "- int: Integer data type represents whole numbers, and once created, their value cannot be changed.\n",
        "- float: Floating-point data type represents real numbers and is immutable.\n",
        "- str: String data type represents a sequence of characters, and you cannot - change its individual characters.\n",
        "- tuple: A tuple is an ordered collection, similar to a list, but their elements cannot be modified once they have been created.\n",
        "-Example-\n",
        " - tuple1 = (10, 11, 12, 13)\n",
        " -  tuple1[0] = 14\n",
        "  - print(tuple1)\n",
        "- when we will execute programme we will see error(output) that 'tuple' object does not support item assignment\n",
        "\n",
        "- # Mutable data types are those whose values can be changed after creation. The memory location of a mutable object remains unchanged when it is modified in-place. As a result, all references to that object will change.\n",
        " - list: Lists are ordered collections that can be modified by adding, removing, or changing elements.\n",
        " - dict: Dictionaries are collections of key-value pairs, and we can add, remove, or modify items using their keys.\n",
        " - set: Sets are unordered collections of unique elements, and we can add or remove elements from them.\n",
        " -Example\n",
        "   - list_num = [1, 2, 3, 4]\n",
        "   - list_num.append(5)   # Modifying the list by adding an element\n",
        "   - print(list_num)   >>    Output: [1, 2, 3, 4,5]\n",
        "   - list_num.remove(2)\n",
        "   - print(list_num)  >>  Output: [1,3, 4,5]\n",
        "\n",
        "3.What are the main differences between lists and tuples in Python?\n",
        "- Lists >>\n",
        "  - Mutable, meaning you can change, add, or remove elements after the list is created\n",
        "  - Defined using square brackets []\n",
        "  -Generally slower than tuples because of their mutable nature.\n",
        "  -Suitable for collections of items that may need to be modified\n",
        "  -Consume more memory due to their dynamic nature.\n",
        "\n",
        "\n",
        "- Tuples >>\n",
        "  - Immutable, meaning once a tuple is created, you cannot change its elements\n",
        "  - Defined using parentheses ()\n",
        "  -Faster than lists due to their immutability, which allows for optimizations.\n",
        "  -Suitable for fixed collections of items, such as coordinates or configuration settings\n",
        "  -Consume less memory, making them more memory-efficient.\n",
        "\n",
        "4.Describe how dictionaries store data.\n",
        "- Dictionaries are written with curly brackets{}, and have keys and values.\n",
        "- dict1 = {\"name: \"Rahul\",\"Age\" : 23 , \"Gender\" : \"Male\"}\n",
        "-It stores the value in \"key: value pairs\". Values in a dictionary can be of any data type and can be duplicated, whereas keys can’t be repeated and must be immutable.\n",
        "\n",
        "5.Why might you use a set instead of a list in Python?\n",
        "- For faster operation: 'in' is a very fast operation on sets. If we have a large collection of elements and if we wish to perform membership test, in that case it is appropriate to use set instead of a list.\n",
        "- To find a distinct items in a collections. Programmers use sets much less frequently than dicts and lists.\n",
        "- If we don’t want the values in the data to change, we can use a set. But if we want the items to change, we can use a list.\n",
        "\n",
        "6.What is a string in Python, and how is it different from a list?\n",
        "- A string is a sequence of characters that can be a combination of letters, numbers, and special characters. It can be declared in python by using single quotes, double quotes, or even triple quotes. These quotes are not a part of a string, they define only starting and ending of the string.  Strings are immutable, i.e., they cannot be changed.\n",
        "- Lists are one of the most powerful data structures in python. Lists are sequenced data types.  In Python, an empty list is created using list() function. They are just like the arrays declared in other languages. But the most powerful thing is that list need not be always homogeneous. A single list can contain strings, integers, as well as other objects. Lists can also be used for implementing stacks and queues. Lists are mutable, i.e., they can be altered once declared.\n",
        "\n",
        "7.How do tuples ensure data integrity in Python?\n",
        "- Tuples in Python are a powerful tool for ensuring data integrity due to their immutable nature.It ensure the data remains unchanged thus tuples provide a reliable option.\n",
        "\n",
        "8.What is a hash table, and how does it relate to dictionaries in Python\n",
        "- A hash table, also known as a hash map, is a data structure that maps keys to values. It is designed to provide efficient insertion, lookup, and deletion operations. The core concept behind a hash table is the use of a hash function to compute an index into an array of buckets or slots, from which the desired value can be found\n",
        "- In Python, the built-in dictionary (dict) is an implementation of a hash table\n",
        "\n",
        "9.Can lists contain different data types in Python?\n",
        "- lists are versatile and can contain elements of different data types. For example, we can have integers, strings, floats, and even other lists within a single list. For example list=[\"ram\", 3 ,2+9j , True , [1,4,5]].List is heterogenous in nature,\n",
        "\n",
        "10.Explain why strings are immutable in Python\n",
        "- Memory Efficiency:\n",
        "  - Interning: Python uses a technique called string interning, where identical strings are stored only once in memory. This saves memory and speeds up comparisons. If strings were mutable, this optimization wouldn't be possible.\n",
        "- Thread Safety:\n",
        "\n",
        "   - Concurrency: In multi-threaded environments, immutable objects are inherently thread-safe. Since strings cannot be changed, there is no risk of one thread modifying a string while another thread is reading it.\n",
        "- Hashing:\n",
        "\n",
        "   - Dictionary Keys: Strings are often used as keys in dictionaries. For an object to be used as a key, it must be hashable, meaning its hash value must remain constant. Immutability ensures that the hash value of a string remains consistent throughout its lifetime.\n",
        "- Predictability:\n",
        "   - Consistency: Immutable objects are easier to reason about because their state cannot change unexpectedly. This leads to more predictable and bug-free code.\n",
        "\n",
        "11.What advantages do dictionaries offer over lists for certain tasks?\n",
        "- Key-Value Pair Mapping:\n",
        "\n",
        " - Dictionaries store data in key-value pairs, allowing for quick and direct access to values using unique keys. This is useful when you need to associate specific identifiers (keys) with values.\n",
        "\n",
        " - Lists, on the other hand, store items in a sequential order and are accessed by their index positions, which might not be as intuitive for tasks involving unique identifiers\n",
        "\n",
        "- Faster Lookup Time:\n",
        "\n",
        " - Dictionaries provide average O(1) time complexity for lookups, insertions, and deletions due to their underlying hash table implementation.\n",
        "\n",
        " - Lists have O(n) time complexity for searching elements, which can be slower, especially for large datasets.\n",
        "\n",
        "- Flexible Data Retrieval:\n",
        "\n",
        " - Dictionaries allow retrieval of values based on meaningful keys, making data access more flexible and readable.\n",
        "\n",
        " - Lists require element retrieval based on index positions, which can be less intuitive when dealing with complex data structures.\n",
        "\n",
        "- No Duplicate Keys:\n",
        "\n",
        " - Dictionaries do not allow duplicate keys, ensuring that each key maps to a unique value. This is advantageous for tasks requiring unique identifiers.\n",
        "\n",
        " - Lists can contain duplicate elements, which might not be desirable for certain applications.\n",
        "\n",
        "12.Describe a scenario where using a tuple would be preferable over a list\n",
        " - A scenario where using a tuple would be preferable over a list is when we need to store a collection of related data that should remain constant and not change throughout the program. Tuples are immutable, meaning their elements cannot be modified after creation, which ensures data integrity.\n",
        "\n",
        "13.How do sets handle duplicate values in Python?\n",
        "- sets are collections of unique elements. When we add elements to a set, any duplicate values are automatically removed. The set data structure ensures that all elements are distinct by storing each element only once, regardless of how many times it is added.\n",
        "\n",
        "14.How does the “in” keyword work differently for lists and dictionaries?\n",
        "- The \"in\" keyword in Python is used to check for the presence of an element within a collection.\n",
        "-However, it works slightly differently for lists and dictionaries:\n",
        "  - In lists, the 'in' keyword checks for the presence of a value.\n",
        "  - In dictionaries, the 'in' keyword checks for the presence of a key.\n",
        "\n",
        "15.Can you modify the elements of a tuple? Explain why or why not\n",
        "- No, we cannot modify the elements of a tuple in Python. Tuples are immutable, which means that once they are created, their elements cannot be changed, added, or removed. This immutability is a fundamental characteristic of tuples.\n",
        "Tuples provide a way to create and work with fixed sequences of elements, ensuring that their contents remain unchanged.\n",
        "\n",
        "16.What is a nested dictionary, and give an example of its use case?\n",
        "- A nested dictionary is a dictionary within another dictionary. This allows for hierarchical data representation and can be useful for structuring complex data in a clear and organized manner.\n",
        "\n",
        "17.Describe the time complexity of accessing elements in a dictionary\n",
        "- The time complexity of accessing elements in a dictionary in Python is O(1) on average. This means that the time it takes to retrieve a value associated with a given key is constant, regardless of the size of the dictionary.\n",
        "\n",
        "- The efficient lookup time is achieved through a data structure called a hash table, which is used to implement dictionaries in Python. Here's a brief explanation:\n",
        "\n",
        "  - When a key-value pair is added to the dictionary, the key is hashed to produce a unique hash value.\n",
        "\n",
        "  - This hash value determines the index at which the key-value pair is stored in an internal array.\n",
        "\n",
        "  - When accessing a value using a key, the key is hashed again, and the hash value is used to quickly locate the index and retrieve the corresponding value.\n",
        "\n",
        "- However, in the worst-case scenario, the time complexity can degrade to O(n), where n is the number of elements in the dictionary. This can happen if there are many hash collisions, which would require a linear search to find the correct key. But with a good hash function and proper handling of collisions (e.g., through chaining or open addressing), this worst-case scenario is rare.\n",
        "\n",
        "\n",
        "18.In what situations are lists preferred over dictionaries?\n",
        "- Here are some scenarios where lists are preferred over dictionaries:\n",
        "\n",
        "  - Ordered Data: If you need to maintain the order of elements, lists are the way to go. Lists preserve the order of insertion, which is useful for tasks like sorting or iterating in a specific sequence.\n",
        "\n",
        "  - Sequential Access: When you need to access elements by their position (index), lists are ideal. They allow for efficient indexing and slicing operations.\n",
        "\n",
        "  - Homogeneous Data: If you're dealing with a collection of similar items, such as a list of numbers or strings, lists are more appropriate. They are designed to handle collections of items where each item is of the same type.\n",
        "\n",
        "  - Simple Iteration: Lists are great for simple iteration tasks where you need to loop through each element. They provide a straightforward way to iterate over elements using loops.\n",
        "\n",
        "  - Memory Efficiency: Lists are generally more memory-efficient for storing a large number of elements compared to dictionaries, especially when the elements are simple data types like integers or strings.\n",
        "\n",
        "\n",
        "19.Why are dictionaries considered unordered, and how does that affect data retrieval?\n",
        "- In Python, dictionaries are collections of key-value pairs. They are considered unordered because they do not maintain any specific order for the elements. This means that when you iterate over a dictionary, the order in which the keys and values are returned is not guaranteed to be the same as the order in which they were added.\n",
        "\n",
        "\n",
        "20.Explain the difference between a list and a dictionary in terms of data retrieval.\n",
        "- The differences between a list and a dictionary in terms of data retrieval:\n",
        "\n",
        "- List\n",
        "  - Ordered Collection: A list is an ordered collection of items. Each item has a specific position or index.\n",
        "  - Index-Based Access: You retrieve data from a list using its index. For example, my_list[2] retrieves the third item in the list.\n",
        "  - Sequential Access: Since lists are ordered, you can easily iterate through them in sequence.\n",
        "  - Homogeneous or Heterogeneous: Lists can contain items of the same type or different types.\n",
        "\n",
        "- Dictionary\n",
        "  - Unordered Collection: A dictionary is an unordered collection of key-value pairs. Each key is unique.\n",
        "  - Key-Based Access: You retrieve data from a dictionary using its key. For example, my_dict['name'] retrieves the value associated with the key 'name'.\n",
        "  - Efficient Lookup: Dictionaries provide efficient data retrieval, especially for large datasets, because they use a hash table for storage.\n",
        "  - Flexible Data Types: Keys and values in a dictionary can be of any data type, though keys must be immutable (e.g., strings, numbers, tuples)."
      ],
      "metadata": {
        "id": "1gpbJf5mUCGl"
      }
    },
    {
      "cell_type": "code",
      "source": [
        "# 1. Write a code to create a string with your name and print it?\n",
        "name = \"Pravin Singh\"\n",
        "print(\"My name is :\" + name )\n"
      ],
      "metadata": {
        "colab": {
          "base_uri": "https://localhost:8080/"
        },
        "id": "OfGOdDM10q3H",
        "outputId": "3e8b37c4-f093-4637-e2f1-7c5b7d52bea5"
      },
      "execution_count": null,
      "outputs": [
        {
          "output_type": "stream",
          "name": "stdout",
          "text": [
            "My name is :Pravin Singh\n"
          ]
        }
      ]
    },
    {
      "cell_type": "code",
      "source": [
        "# 2. Write a code to find the length of the string \"Hello World\".\n",
        "a = \"Hello world\"\n",
        "length = len(a)\n",
        "print(length)"
      ],
      "metadata": {
        "colab": {
          "base_uri": "https://localhost:8080/"
        },
        "id": "5RqSJ7D61M_q",
        "outputId": "646dfff0-1724-4a95-a0b2-fddb044e05c2"
      },
      "execution_count": null,
      "outputs": [
        {
          "output_type": "stream",
          "name": "stdout",
          "text": [
            "11\n"
          ]
        }
      ]
    },
    {
      "cell_type": "code",
      "source": [
        "# 2. Write a code to find the length of the string \"Hello World\".(using loop)\n",
        "string1 = \"Hello World\"\n",
        "length = 0\n",
        "for char in string1:\n",
        "  length+=1\n",
        "print(\"length of the string is \",length)"
      ],
      "metadata": {
        "colab": {
          "base_uri": "https://localhost:8080/"
        },
        "id": "6d5eIGJH1qXp",
        "outputId": "9bbbc871-1559-4090-f5cc-fdb12acfe741"
      },
      "execution_count": null,
      "outputs": [
        {
          "output_type": "stream",
          "name": "stdout",
          "text": [
            "length of the string is  11\n"
          ]
        }
      ]
    },
    {
      "cell_type": "code",
      "source": [
        "# 3. Write a code to slice the first 3 characters from the string \"Python Programming\"\n",
        "word = \"Python Programming\"\n",
        "slice_char = word[0:3]\n",
        "print(\"The first three character are: \",slice_char)"
      ],
      "metadata": {
        "colab": {
          "base_uri": "https://localhost:8080/"
        },
        "id": "5R4-VMn4CrXa",
        "outputId": "46c9e8f3-efd1-4950-e9b5-db8d269d7f22"
      },
      "execution_count": null,
      "outputs": [
        {
          "output_type": "stream",
          "name": "stdout",
          "text": [
            "The first three character are:  Pyt\n"
          ]
        }
      ]
    },
    {
      "cell_type": "code",
      "source": [
        "# 4. Write a code to convert the string \"hello\" to uppercase.\n",
        "a = \"hello\"\n",
        "b = a.upper()\n",
        "print(\"Uppercase string is : \",b)\n"
      ],
      "metadata": {
        "colab": {
          "base_uri": "https://localhost:8080/"
        },
        "id": "XS_SBvcKC4Xg",
        "outputId": "9a55ae03-f18a-40ae-80d5-c0ddf2a21a45"
      },
      "execution_count": null,
      "outputs": [
        {
          "output_type": "stream",
          "name": "stdout",
          "text": [
            "Uppercase string is :  HELLO\n"
          ]
        }
      ]
    },
    {
      "cell_type": "code",
      "source": [
        "# 5. Write a code to replace the word \"apple\" with \"orange\" in the string \"I like apple\"\n",
        "a = \"I like apple\"\n",
        "b = a.replace(\"apple\",\"orange\")\n",
        "print(\"Replaced string : \",b)"
      ],
      "metadata": {
        "colab": {
          "base_uri": "https://localhost:8080/"
        },
        "id": "Yln1I0pHEvO2",
        "outputId": "9f193ce9-add3-40b4-ae6b-edf6b0e0eba2"
      },
      "execution_count": null,
      "outputs": [
        {
          "output_type": "stream",
          "name": "stdout",
          "text": [
            "Replaced string :  I like orange\n"
          ]
        }
      ]
    },
    {
      "cell_type": "code",
      "source": [
        "# 6 . Write a code to create a list with numbers 1 to 5 and print it\n",
        "List1 = [1,2,3,4,5]\n",
        "print(\"List of numbers is :\",List1)"
      ],
      "metadata": {
        "colab": {
          "base_uri": "https://localhost:8080/"
        },
        "id": "yaKZufXFIaZH",
        "outputId": "57d2c3b7-d777-41ea-b5c2-80a55f198c67"
      },
      "execution_count": null,
      "outputs": [
        {
          "output_type": "stream",
          "name": "stdout",
          "text": [
            "List of numbers is : [1, 2, 3, 4, 5]\n"
          ]
        }
      ]
    },
    {
      "cell_type": "code",
      "source": [
        "# 7.  Write a code to append the number 10 to the list [1, 2, 3, 4]\n",
        "List2 = [1, 2, 3, 4]\n",
        "List2.append(10)\n",
        "print(List2)"
      ],
      "metadata": {
        "colab": {
          "base_uri": "https://localhost:8080/"
        },
        "id": "9Nc1yaRcLVyY",
        "outputId": "37ad4cb3-23fc-4a1a-c131-ea364ec8417d"
      },
      "execution_count": null,
      "outputs": [
        {
          "output_type": "stream",
          "name": "stdout",
          "text": [
            "[1, 2, 3, 4, 10]\n"
          ]
        }
      ]
    },
    {
      "cell_type": "code",
      "source": [
        "# 8. Write a code to remove the number 3 from the list [1, 2, 3, 4, 5]\n",
        "List3 = [1, 2, 3, 4, 5]\n",
        "List3.remove(3)\n",
        "print(List3)"
      ],
      "metadata": {
        "colab": {
          "base_uri": "https://localhost:8080/"
        },
        "id": "4MaV_4lALui6",
        "outputId": "12138e26-1114-4a03-bff1-7d3ebb3a3bc6"
      },
      "execution_count": null,
      "outputs": [
        {
          "output_type": "stream",
          "name": "stdout",
          "text": [
            "[1, 2, 4, 5]\n"
          ]
        }
      ]
    },
    {
      "cell_type": "code",
      "source": [
        "# 9.  Write a code to access the second element in the list ['a', 'b', 'c', 'd']\n",
        "list4 = ['a', 'b', 'c', 'd']\n",
        "print(\"Second element of list is :\",list4[1])"
      ],
      "metadata": {
        "colab": {
          "base_uri": "https://localhost:8080/"
        },
        "id": "9eU4grOYMAbi",
        "outputId": "45cbff37-2ce8-41fd-8eb2-d68db1888709"
      },
      "execution_count": null,
      "outputs": [
        {
          "output_type": "stream",
          "name": "stdout",
          "text": [
            "Second element of list is : b\n"
          ]
        }
      ]
    },
    {
      "cell_type": "code",
      "source": [
        "# 10. Write a code to reverse the list [10, 20, 30, 40, 50].\n",
        "List5 = [10, 20, 30, 40, 50]\n",
        "reversed_list = List5[ : :-1]\n",
        "print(\"our reversed list is: \", reversed_list)"
      ],
      "metadata": {
        "colab": {
          "base_uri": "https://localhost:8080/"
        },
        "id": "RC6VbL1tMOe0",
        "outputId": "203416bb-53f1-4c83-99b5-725ac0ad7c86"
      },
      "execution_count": null,
      "outputs": [
        {
          "output_type": "stream",
          "name": "stdout",
          "text": [
            "our reversed list is:  [50, 40, 30, 20, 10]\n"
          ]
        }
      ]
    },
    {
      "cell_type": "code",
      "source": [
        "# 11.Write a code to create a tuple with the elements 100, 200, 300 and print it\n",
        "tuple1 = (100, 200,300)\n",
        "print(\"print given Tuple: \",tuple1)"
      ],
      "metadata": {
        "colab": {
          "base_uri": "https://localhost:8080/"
        },
        "id": "VlLQ38WSNy1S",
        "outputId": "117dc80e-ea56-439c-9484-572f3548b56e"
      },
      "execution_count": null,
      "outputs": [
        {
          "output_type": "stream",
          "name": "stdout",
          "text": [
            "print given Tuple:  (100, 200, 300)\n"
          ]
        }
      ]
    },
    {
      "cell_type": "code",
      "source": [
        "# 12. Write a code to access the second-to-last element of the tuple ('red', 'green', 'blue', 'yellow').\n",
        "tuple2 = ('red', 'green', 'blue', 'yellow')\n",
        "b = tuple2[2]\n",
        "print(\"second-to-last element of the tuple is :\",b)"
      ],
      "metadata": {
        "colab": {
          "base_uri": "https://localhost:8080/"
        },
        "id": "2WxHyYH-OdpR",
        "outputId": "0e9b5b1b-3b4c-43ac-86a1-aa18017695d5"
      },
      "execution_count": null,
      "outputs": [
        {
          "output_type": "stream",
          "name": "stdout",
          "text": [
            "second-to-last element of the tuple is : blue\n"
          ]
        }
      ]
    },
    {
      "cell_type": "code",
      "source": [
        "# 13.Write a code to find the minimum number in the tuple (10, 20, 5, 15).\n",
        "tuple3 = (10, 20, 5, 15)\n",
        "min_value = min(tuple3)\n",
        "print(\"Minimum value of tuple is: \", min_value)"
      ],
      "metadata": {
        "colab": {
          "base_uri": "https://localhost:8080/"
        },
        "id": "zJuDvAecYbbK",
        "outputId": "b375cc30-76b2-43d2-d424-ba6acbce5f3b"
      },
      "execution_count": null,
      "outputs": [
        {
          "output_type": "stream",
          "name": "stdout",
          "text": [
            "Minimum value of tuple is:  5\n"
          ]
        }
      ]
    },
    {
      "cell_type": "code",
      "source": [
        "# 14. Write a code to find the index of the element \"cat\" in the tuple ('dog', 'cat', 'rabbit').\n",
        "tuple4 = ('dog', 'cat', 'rabbit')\n",
        "index_4 = tuple4.index(\"cat\")\n",
        "print(\"Index of cat in Tuple is: \",index_4)\n"
      ],
      "metadata": {
        "colab": {
          "base_uri": "https://localhost:8080/"
        },
        "id": "gB2y8p1p4snY",
        "outputId": "2750ba1c-718f-4535-f01f-87c344c78ea0"
      },
      "execution_count": null,
      "outputs": [
        {
          "output_type": "stream",
          "name": "stdout",
          "text": [
            "Index of cat in Tuple is:  1\n"
          ]
        }
      ]
    },
    {
      "cell_type": "code",
      "source": [
        "# 15.  Write a code to create a tuple containing three different fruits and check if \"kiwi\" is in it.\n",
        "fruit_tuple = (\"apple\", \"mango\", \"kiwi\")\n",
        "check_fruit = \"kiwi\" in fruit_tuple\n",
        "if check_fruit:\n",
        "  print(\"kiwi is in stock\")\n",
        "else:\n",
        "  print(\"kiwi is out of stock\")"
      ],
      "metadata": {
        "colab": {
          "base_uri": "https://localhost:8080/"
        },
        "id": "WAmUPUY4RGmU",
        "outputId": "398102cb-0929-4cd6-ce0d-5a6926b7868b"
      },
      "execution_count": null,
      "outputs": [
        {
          "output_type": "stream",
          "name": "stdout",
          "text": [
            "kiwi is in stock\n"
          ]
        }
      ]
    },
    {
      "cell_type": "code",
      "source": [
        "# 16. Write a code to create a set with the elements 'a', 'b', 'c' and print it.\n",
        "set1 = {'a','b','c'}\n",
        "print(\"set A = \",set1)"
      ],
      "metadata": {
        "colab": {
          "base_uri": "https://localhost:8080/"
        },
        "id": "4dkzUha8SlnG",
        "outputId": "7e849222-3297-4d88-b1ee-09ef3225a372"
      },
      "execution_count": null,
      "outputs": [
        {
          "output_type": "stream",
          "name": "stdout",
          "text": [
            "set A =  {'a', 'c', 'b'}\n"
          ]
        }
      ]
    },
    {
      "cell_type": "code",
      "source": [
        "# 17. Write a code to clear all elements from the set {1, 2, 3, 4, 5}.\n",
        "set2 = {1, 2, 3, 4, 5}\n",
        "set2.clear()\n",
        "print('Our clear set is :', set2)"
      ],
      "metadata": {
        "colab": {
          "base_uri": "https://localhost:8080/"
        },
        "id": "IlEvZaR9h6d_",
        "outputId": "0810b6e8-7a75-4e4a-981e-faf2d4a27c01"
      },
      "execution_count": null,
      "outputs": [
        {
          "output_type": "stream",
          "name": "stdout",
          "text": [
            "Our clear set is : set()\n"
          ]
        }
      ]
    },
    {
      "cell_type": "code",
      "source": [
        "# 18. Write a code to remove the element 4 from the set {1, 2, 3, 4}.\n",
        "set3 = {1, 2, 3, 4}\n",
        "set3.remove(4)\n",
        "print(\"new set after removal of 4:\", set3)"
      ],
      "metadata": {
        "colab": {
          "base_uri": "https://localhost:8080/"
        },
        "id": "NH1PEwH3icyF",
        "outputId": "3b213285-955c-4e07-9c90-74a46097c3af"
      },
      "execution_count": null,
      "outputs": [
        {
          "output_type": "stream",
          "name": "stdout",
          "text": [
            "new set after removal of 4: {1, 2, 3}\n"
          ]
        }
      ]
    },
    {
      "cell_type": "code",
      "source": [
        "# 19.  Write a code to find the union of two sets {1, 2, 3} and {3, 4, 5}.\n",
        "A = {1, 2, 3}\n",
        "B = {3, 4, 5}\n",
        "C = A | B\n",
        "print(\"Union of set A and B:\",C)"
      ],
      "metadata": {
        "colab": {
          "base_uri": "https://localhost:8080/"
        },
        "id": "5e0j2A1Pils0",
        "outputId": "8f9521c9-de86-4e3f-93c0-5b7a7804237e"
      },
      "execution_count": null,
      "outputs": [
        {
          "output_type": "stream",
          "name": "stdout",
          "text": [
            "Union of set A and B: {1, 2, 3, 4, 5}\n"
          ]
        }
      ]
    },
    {
      "cell_type": "code",
      "source": [
        "# 20.  Write a code to find the intersection of two sets {1, 2, 3} and {2, 3, 4}.\n",
        "A = {1, 2, 3}\n",
        "B = {3, 4, 5}\n",
        "C = A & B\n",
        "print(\"Union of set A and B:\",C)"
      ],
      "metadata": {
        "colab": {
          "base_uri": "https://localhost:8080/"
        },
        "id": "JNs0NAUWjfG9",
        "outputId": "61fc1042-e3fb-4bb0-e5b1-14475b0b0cbc"
      },
      "execution_count": null,
      "outputs": [
        {
          "output_type": "stream",
          "name": "stdout",
          "text": [
            "Union of set A and B: {3}\n"
          ]
        }
      ]
    },
    {
      "cell_type": "code",
      "source": [
        "# 21.Write a code to create a dictionary with the keys \"name\", \"age\", and \"city\", and print it.\n",
        "dict1 = {\"name\": \"Mohit\",\"age\" : 17 ,\"city\": \"Mumbai\"}\n",
        "print(dict1)"
      ],
      "metadata": {
        "colab": {
          "base_uri": "https://localhost:8080/"
        },
        "id": "dGYMI-eVkB2Y",
        "outputId": "bca7236d-7e4a-458b-c901-7673c0de6634"
      },
      "execution_count": null,
      "outputs": [
        {
          "output_type": "stream",
          "name": "stdout",
          "text": [
            "{'name': 'Mohit', 'age': 17, 'city': 'Mumbai'}\n"
          ]
        }
      ]
    },
    {
      "cell_type": "code",
      "source": [
        "# 22. Write a code to add a new key-value pair \"country\": \"USA\" to the dictionary {'name': 'John', 'age': 25}\n",
        "dict2 = {'name': 'John', 'age': 25}\n",
        "dict2[\"country\"] = \"USA\"\n",
        "print(dict2)"
      ],
      "metadata": {
        "colab": {
          "base_uri": "https://localhost:8080/"
        },
        "id": "_ealw1DukZsg",
        "outputId": "1a7b5cfc-8742-4555-9ce4-82f8aa18957b"
      },
      "execution_count": null,
      "outputs": [
        {
          "output_type": "stream",
          "name": "stdout",
          "text": [
            "{'name': 'John', 'age': 25, 'country': 'USA'}\n"
          ]
        }
      ]
    },
    {
      "cell_type": "code",
      "source": [
        "# 23. Write a code to access the value associated with the key \"name\" in the dictionary {'name': 'Alice', 'age': 30}.\n",
        "dict3 = {'name': 'Alice', 'age': 30}\n",
        "print(dict3[\"name\"])"
      ],
      "metadata": {
        "colab": {
          "base_uri": "https://localhost:8080/"
        },
        "id": "i2WPXvrTlOLL",
        "outputId": "3fbf4959-8cb9-46c0-cdde-819d72b5ddb3"
      },
      "execution_count": null,
      "outputs": [
        {
          "output_type": "stream",
          "name": "stdout",
          "text": [
            "Alice\n"
          ]
        }
      ]
    },
    {
      "cell_type": "code",
      "source": [
        "# 24. . Write a code to remove the key \"age\" from the dictionary {'name': 'Bob', 'age': 22, 'city': 'New York'}.\n",
        "dict4 = {'name': 'Bob', 'age': 22, 'city': 'New York'}\n",
        "del dict4[\"age\"]\n",
        "print(dict4)"
      ],
      "metadata": {
        "colab": {
          "base_uri": "https://localhost:8080/"
        },
        "id": "_gW_VqdMm1_h",
        "outputId": "6580802b-6ea6-4eea-87ca-ef7a9b5e876b"
      },
      "execution_count": null,
      "outputs": [
        {
          "output_type": "stream",
          "name": "stdout",
          "text": [
            "{'name': 'Bob', 'city': 'New York'}\n"
          ]
        }
      ]
    },
    {
      "cell_type": "code",
      "source": [
        "# 25.  Write a code to check if the key \"city\" exists in the dictionary {'name': 'Alice', 'city': 'Paris'}\n",
        "dict5 = {'name': 'Alice', 'city': 'Paris'}\n",
        "\"city\" in dict5"
      ],
      "metadata": {
        "colab": {
          "base_uri": "https://localhost:8080/"
        },
        "id": "THeimfzFtGkT",
        "outputId": "4b971c53-17ee-4539-fa30-97aa393523c8"
      },
      "execution_count": null,
      "outputs": [
        {
          "output_type": "execute_result",
          "data": {
            "text/plain": [
              "True"
            ]
          },
          "metadata": {},
          "execution_count": 4
        }
      ]
    },
    {
      "cell_type": "code",
      "source": [
        "# 26. Write a code to create a list, a tuple, and a dictionary, and print them all.\n",
        "list_1 = [1,\"ram\", 4+7j , True]\n",
        "tuple_1 = (2,5,\"tom\")\n",
        "dict_1 = {'name': 'raju', 'age': 29}\n",
        "print(\"My List: \" , list_1)\n",
        "print(\"My Tuple: \", tuple_1)\n",
        "print(\"My Dictionary: \", dict_1)"
      ],
      "metadata": {
        "colab": {
          "base_uri": "https://localhost:8080/"
        },
        "id": "jqGsljBRtfFI",
        "outputId": "9a7574b3-52c6-44f5-9a57-5068f4c7364d"
      },
      "execution_count": null,
      "outputs": [
        {
          "output_type": "stream",
          "name": "stdout",
          "text": [
            "My List:  [1, 'ram', (4+7j), True]\n",
            "My Tuple:  (2, 5, 'tom')\n",
            "My Dictionary:  {'name': 'raju', 'age': 29}\n"
          ]
        }
      ]
    },
    {
      "cell_type": "code",
      "source": [
        "# 27.  Write a code to create a list of 5 random numbers between 1 and 100, sort it in ascending order, and print the  result.(replaced)\n",
        "import random\n",
        "list_of_number = random.sample(range(1,100),5)\n",
        "print(\"Unsorted list: \" ,list_of_number)\n",
        "list_of_number.sort()\n",
        "print(\"sorted list: \" ,list_of_number)"
      ],
      "metadata": {
        "colab": {
          "base_uri": "https://localhost:8080/"
        },
        "id": "vzyIFjDiuXv8",
        "outputId": "56b255df-2603-445a-91e5-85d58e425b41"
      },
      "execution_count": 17,
      "outputs": [
        {
          "output_type": "stream",
          "name": "stdout",
          "text": [
            "Unsorted list:  [36, 41, 22, 63, 55]\n",
            "sorted list:  [22, 36, 41, 55, 63]\n"
          ]
        }
      ]
    },
    {
      "cell_type": "code",
      "source": [
        "# 28.  Write a code to create a list with strings and print the element at the third index.\n",
        "list_of_string = [\"Aslam\" , \"Jacob\" , \"Ram\" , \"Anshdeep\"]\n",
        "element = list_of_string[2]\n",
        "print(\"Element at third index in the List is :\", element)"
      ],
      "metadata": {
        "id": "fxwQMQImubdi",
        "colab": {
          "base_uri": "https://localhost:8080/"
        },
        "outputId": "23da669a-e234-4c35-8e8b-823043ef139f"
      },
      "execution_count": 5,
      "outputs": [
        {
          "output_type": "stream",
          "name": "stdout",
          "text": [
            "Element at third index in the List is : ram\n"
          ]
        }
      ]
    },
    {
      "cell_type": "code",
      "source": [
        "# 29.  Write a code to combine two dictionaries into one and print the result.\n",
        "dict_1 = {\"Name\": \"Arjun\" , \"Class\" : 9}\n",
        "dict_2 = {\"Address\" : \"Ahmedabad\" , \"Religion\" : \"Hindu\"}\n",
        "combine_dict ={**dict_1 , **dict_2}\n",
        "print(combine_dict)"
      ],
      "metadata": {
        "colab": {
          "base_uri": "https://localhost:8080/"
        },
        "id": "NLKaRxoFuvhx",
        "outputId": "6ce09b05-f27b-4988-c824-09655296bff4"
      },
      "execution_count": null,
      "outputs": [
        {
          "output_type": "stream",
          "name": "stdout",
          "text": [
            "{'Name': 'Arjun', 'Class': 9, 'Address': 'Ahmedabad', 'Religion': 'Hindu'}\n"
          ]
        }
      ]
    },
    {
      "cell_type": "code",
      "source": [
        "# 30. Write a code to convert a list of strings into a set\n",
        "list_string = [\"abdul\" , \"john\" , \"ram\" , \"gurtaj\"]\n",
        "set_string = set(list_string)\n",
        "print(\"Converted list into set =\",set_string)"
      ],
      "metadata": {
        "id": "tjOYeBNQu1P1",
        "colab": {
          "base_uri": "https://localhost:8080/"
        },
        "outputId": "83b2a1f0-d0b1-42aa-ce07-0ca96719aabe"
      },
      "execution_count": 4,
      "outputs": [
        {
          "output_type": "stream",
          "name": "stdout",
          "text": [
            "Converted list into set = {'gurtaj', 'john', 'ram', 'abdul'}\n"
          ]
        }
      ]
    },
    {
      "cell_type": "code",
      "source": [],
      "metadata": {
        "id": "l2-2eZ-8RONB"
      },
      "execution_count": null,
      "outputs": []
    }
  ]
}